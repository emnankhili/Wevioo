{
 "cells": [
  {
   "cell_type": "code",
   "execution_count": 3,
   "id": "af174580",
   "metadata": {},
   "outputs": [
    {
     "name": "stdout",
     "output_type": "stream",
     "text": [
      "Requirement already satisfied: pdfplumber in c:\\users\\emna nkhili\\appdata\\local\\programs\\python\\python312\\lib\\site-packages (0.11.7)\n",
      "Requirement already satisfied: pytesseract in c:\\users\\emna nkhili\\appdata\\local\\programs\\python\\python312\\lib\\site-packages (0.3.10)\n",
      "Requirement already satisfied: pillow in c:\\users\\emna nkhili\\appdata\\local\\programs\\python\\python312\\lib\\site-packages (10.3.0)\n",
      "Requirement already satisfied: python-docx in c:\\users\\emna nkhili\\appdata\\local\\programs\\python\\python312\\lib\\site-packages (1.1.2)\n",
      "Collecting docx2pdf\n",
      "  Downloading docx2pdf-0.1.8-py3-none-any.whl.metadata (3.3 kB)\n",
      "Requirement already satisfied: pdfminer.six==20250506 in c:\\users\\emna nkhili\\appdata\\local\\programs\\python\\python312\\lib\\site-packages (from pdfplumber) (20250506)\n",
      "Requirement already satisfied: pypdfium2>=4.18.0 in c:\\users\\emna nkhili\\appdata\\local\\programs\\python\\python312\\lib\\site-packages (from pdfplumber) (4.30.1)\n",
      "Requirement already satisfied: charset-normalizer>=2.0.0 in c:\\users\\emna nkhili\\appdata\\local\\programs\\python\\python312\\lib\\site-packages (from pdfminer.six==20250506->pdfplumber) (3.3.2)\n",
      "Requirement already satisfied: cryptography>=36.0.0 in c:\\users\\emna nkhili\\appdata\\local\\programs\\python\\python312\\lib\\site-packages (from pdfminer.six==20250506->pdfplumber) (45.0.4)\n",
      "Requirement already satisfied: packaging>=21.3 in c:\\users\\emna nkhili\\appdata\\local\\programs\\python\\python312\\lib\\site-packages (from pytesseract) (24.0)\n",
      "Requirement already satisfied: lxml>=3.1.0 in c:\\users\\emna nkhili\\appdata\\local\\programs\\python\\python312\\lib\\site-packages (from python-docx) (5.4.0)\n",
      "Requirement already satisfied: typing-extensions>=4.9.0 in c:\\users\\emna nkhili\\appdata\\local\\programs\\python\\python312\\lib\\site-packages (from python-docx) (4.13.2)\n",
      "Requirement already satisfied: pywin32>=227 in c:\\users\\emna nkhili\\appdata\\local\\programs\\python\\python312\\lib\\site-packages (from docx2pdf) (306)\n",
      "Requirement already satisfied: tqdm>=4.41.0 in c:\\users\\emna nkhili\\appdata\\local\\programs\\python\\python312\\lib\\site-packages (from docx2pdf) (4.67.1)\n",
      "Requirement already satisfied: cffi>=1.14 in c:\\users\\emna nkhili\\appdata\\local\\programs\\python\\python312\\lib\\site-packages (from cryptography>=36.0.0->pdfminer.six==20250506->pdfplumber) (1.16.0)\n",
      "Requirement already satisfied: pycparser in c:\\users\\emna nkhili\\appdata\\local\\programs\\python\\python312\\lib\\site-packages (from cffi>=1.14->cryptography>=36.0.0->pdfminer.six==20250506->pdfplumber) (2.22)\n",
      "Requirement already satisfied: colorama in c:\\users\\emna nkhili\\appdata\\local\\programs\\python\\python312\\lib\\site-packages (from tqdm>=4.41.0->docx2pdf) (0.4.6)\n",
      "Downloading docx2pdf-0.1.8-py3-none-any.whl (6.7 kB)\n",
      "Installing collected packages: docx2pdf\n",
      "Successfully installed docx2pdf-0.1.8\n",
      "Note: you may need to restart the kernel to use updated packages.\n"
     ]
    },
    {
     "name": "stderr",
     "output_type": "stream",
     "text": [
      "WARNING: Error parsing dependencies of google-images-search: Expected matching RIGHT_PARENTHESIS for LEFT_PARENTHESIS, after version specifier\n",
      "    click (>=7.0<=8.1.*)\n",
      "          ~~~~~~^\n"
     ]
    }
   ],
   "source": [
    "pip install pdfplumber pytesseract pillow python-docx docx2pdf\n"
   ]
  },
  {
   "cell_type": "code",
   "execution_count": 6,
   "id": "36c75dcf",
   "metadata": {},
   "outputs": [
    {
     "name": "stdout",
     "output_type": "stream",
     "text": [
      "📄 DOCX : CV AHMED DIOUF DIRIEH DIBAD AVRIL 2024 VF.docx → PDF\n"
     ]
    },
    {
     "name": "stderr",
     "output_type": "stream",
     "text": [
      "100%|██████████| 1/1 [00:03<00:00,  3.25s/it]\n"
     ]
    },
    {
     "name": "stdout",
     "output_type": "stream",
     "text": [
      "📄 PDF : CV Anis JENHANI_EU_fr_Expert SIG.pdf\n",
      "📄 DOCX : CV FR BM Ahmed Faresse_Consultant international Mars25.docx → PDF\n"
     ]
    },
    {
     "name": "stderr",
     "output_type": "stream",
     "text": [
      "100%|██████████| 1/1 [00:04<00:00,  4.36s/it]\n"
     ]
    },
    {
     "name": "stdout",
     "output_type": "stream",
     "text": [
      "📄 DOCX : CV Habib BEN ALI .docx → PDF\n"
     ]
    },
    {
     "name": "stderr",
     "output_type": "stream",
     "text": [
      "100%|██████████| 1/1 [00:03<00:00,  3.99s/it]\n"
     ]
    },
    {
     "name": "stdout",
     "output_type": "stream",
     "text": [
      "📄 DOCX : CV HmidaKarboul_V2.docx → PDF\n"
     ]
    },
    {
     "name": "stderr",
     "output_type": "stream",
     "text": [
      "100%|██████████| 1/1 [00:04<00:00,  4.48s/it]\n"
     ]
    },
    {
     "name": "stdout",
     "output_type": "stream",
     "text": [
      "📄 PDF : CV Jalel ZAGRANI Ex DSI BCT.pdf\n",
      "📄 DOCX : CV Mohamed Anis BEN ROMDHANE -FR.docx → PDF\n"
     ]
    },
    {
     "name": "stderr",
     "output_type": "stream",
     "text": [
      "100%|██████████| 1/1 [00:04<00:00,  4.14s/it]\n"
     ]
    },
    {
     "name": "stdout",
     "output_type": "stream",
     "text": [
      "📄 DOCX : CV Mouhsine LAKHDISSI.docx → PDF\n"
     ]
    },
    {
     "name": "stderr",
     "output_type": "stream",
     "text": [
      "100%|██████████| 1/1 [00:04<00:00,  4.51s/it]\n"
     ]
    },
    {
     "name": "stdout",
     "output_type": "stream",
     "text": [
      "📄 PDF : CV Saber Jaffel.PDF\n",
      "📄 DOCX : CV-Ali Kedhai-Expert SI Bancaire.docx → PDF\n"
     ]
    },
    {
     "name": "stderr",
     "output_type": "stream",
     "text": [
      "100%|██████████| 1/1 [00:03<00:00,  3.88s/it]\n"
     ]
    },
    {
     "name": "stdout",
     "output_type": "stream",
     "text": [
      "📄 PDF : CV-Expert T24.pdf\n",
      "📄 PDF : CV-NIANG-Oumar-Seydou-fr.pdf\n",
      "📄 PDF : CV. OMAR FEHRI FR..pdf\n",
      "📄 PDF : CV_HatemGhazala_02112023.pdf\n",
      "\n",
      "✅ 14 fichiers traités avec succès.\n"
     ]
    }
   ],
   "source": [
    "import os\n",
    "import pdfplumber\n",
    "import pytesseract\n",
    "from PIL import Image\n",
    "from docx2pdf import convert\n",
    "import shutil\n",
    "import json\n",
    "\n",
    "PDF_FOLDER = \"data\"\n",
    "TEMP_FOLDER = \"temp_pdf\"\n",
    "OUTPUT_JSON = \"result.json\"\n",
    "\n",
    "# === Convertit un .docx en .pdf ===\n",
    "def convert_docx_to_pdf(docx_path, output_dir):\n",
    "    try:\n",
    "        os.makedirs(output_dir, exist_ok=True)\n",
    "        convert(docx_path, output_dir)\n",
    "        pdf_name = os.path.splitext(os.path.basename(docx_path))[0] + \".pdf\"\n",
    "        return os.path.join(output_dir, pdf_name)\n",
    "    except Exception as e:\n",
    "        print(f\"❌ Erreur de conversion {docx_path} → PDF : {e}\")\n",
    "        return None\n",
    "\n",
    "# === Extraction unifiée pour tous les PDF (y compris DOCX convertis) ===\n",
    "def extract_text_from_pdf(pdf_path):\n",
    "    extracted_text = \"\"\n",
    "    try:\n",
    "        with pdfplumber.open(pdf_path) as pdf:\n",
    "            for page in pdf.pages:\n",
    "                text = page.extract_text()\n",
    "                if text and len(text.strip()) > 20:\n",
    "                    extracted_text += text + \"\\n\"\n",
    "                else:\n",
    "                    image = page.to_image(resolution=300).original\n",
    "                    ocr_text = pytesseract.image_to_string(image, lang='eng+fra')\n",
    "                    extracted_text += ocr_text + \"\\n\"\n",
    "    except Exception as e:\n",
    "        print(f\"❌ Erreur PDF {pdf_path} : {e}\")\n",
    "    return extracted_text.strip() or None\n",
    "\n",
    "# === Traitement principal ===\n",
    "def process_documents(folder):\n",
    "    all_docs = []\n",
    "    ignored = []\n",
    "\n",
    "    os.makedirs(TEMP_FOLDER, exist_ok=True)\n",
    "\n",
    "    for filename in os.listdir(folder):\n",
    "        filepath = os.path.join(folder, filename)\n",
    "        text = None\n",
    "\n",
    "        # PDF direct\n",
    "        if filename.lower().endswith(\".pdf\"):\n",
    "            print(f\"📄 PDF : {filename}\")\n",
    "            text = extract_text_from_pdf(filepath)\n",
    "\n",
    "        # DOCX converti en PDF\n",
    "        elif filename.lower().endswith(\".docx\"):\n",
    "            print(f\"📄 DOCX : {filename} → PDF\")\n",
    "            converted_pdf = convert_docx_to_pdf(filepath, TEMP_FOLDER)\n",
    "            if converted_pdf and os.path.exists(converted_pdf):\n",
    "                text = extract_text_from_pdf(converted_pdf)\n",
    "\n",
    "        if text:\n",
    "            all_docs.append({\n",
    "                \"filename\": filename,\n",
    "                \"text\": text\n",
    "            })\n",
    "        else:\n",
    "            print(f\"⚠️ Aucun texte extrait de : {filename}\")\n",
    "            ignored.append(filename)\n",
    "\n",
    "    with open(OUTPUT_JSON, \"w\", encoding=\"utf-8\") as f:\n",
    "        json.dump(all_docs, f, ensure_ascii=False, indent=2)\n",
    "\n",
    "    shutil.rmtree(TEMP_FOLDER)\n",
    "    print(f\"\\n✅ {len(all_docs)} fichiers traités avec succès.\")\n",
    "    if ignored:\n",
    "        print(f\"🚫 {len(ignored)} fichiers ignorés :\", ignored)\n",
    "\n",
    "if __name__ == \"__main__\":\n",
    "    process_documents(PDF_FOLDER)\n"
   ]
  }
 ],
 "metadata": {
  "kernelspec": {
   "display_name": "Python 3",
   "language": "python",
   "name": "python3"
  },
  "language_info": {
   "codemirror_mode": {
    "name": "ipython",
    "version": 3
   },
   "file_extension": ".py",
   "mimetype": "text/x-python",
   "name": "python",
   "nbconvert_exporter": "python",
   "pygments_lexer": "ipython3",
   "version": "3.12.2"
  }
 },
 "nbformat": 4,
 "nbformat_minor": 5
}
